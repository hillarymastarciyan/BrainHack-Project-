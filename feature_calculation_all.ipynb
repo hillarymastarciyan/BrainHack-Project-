{
 "cells": [
  {
   "cell_type": "code",
   "execution_count": null,
   "id": "fdb89dac",
   "metadata": {},
   "outputs": [],
   "source": [
    "### FEATURE CALCULATION\n",
    "### May 23, 2025\n",
    "### Lorena Lopez Dominguez\n",
    "### From https://brainconn.readthedocs.io/en/latest/api.html\n",
    "### kernel: base (Python 3.12.8)"
   ]
  },
  {
   "cell_type": "code",
   "execution_count": 3,
   "id": "cfcc0cc7",
   "metadata": {},
   "outputs": [],
   "source": [
    "# Load libraries\n",
    "import numpy as np\n",
    "import pandas as pd\n",
    "import matplotlib.pyplot as plt\n",
    "import os\n",
    "import re\n",
    "import bct"
   ]
  },
  {
   "cell_type": "code",
   "execution_count": 4,
   "id": "62fe08d3",
   "metadata": {},
   "outputs": [],
   "source": [
    "# Set working directory\n",
    "base_dir = '/Users/Lore/Desktop/brainhack/project/BrainHack-Project-'\n",
    "data_dir = os.path.join(base_dir, 'FCData_18')\n",
    "os.chdir(base_dir)\n",
    "\n",
    "# Create results directory if it doesn't exist\n",
    "results_dir = os.path.join(base_dir, 'results')\n",
    "os.makedirs(results_dir, exist_ok=True)"
   ]
  },
  {
   "cell_type": "code",
   "execution_count": 5,
   "id": "b2fa7c3a",
   "metadata": {},
   "outputs": [],
   "source": [
    "# Load community index vector\n",
    "civ = pd.read_table('network_roi_7networks.txt')"
   ]
  },
  {
   "cell_type": "code",
   "execution_count": 6,
   "id": "1f072e2b",
   "metadata": {},
   "outputs": [],
   "source": [
    "# Initialize DataFrames to store all subjects' data\n",
    "all_zscores = pd.DataFrame()\n",
    "all_partcoef = pd.DataFrame()\n",
    "all_strength = pd.DataFrame()"
   ]
  },
  {
   "cell_type": "code",
   "execution_count": 7,
   "id": "2ee839c5",
   "metadata": {},
   "outputs": [],
   "source": [
    "# Initialize accumulators for average plots\n",
    "sum_adj_wei = None\n",
    "sum_adj_bin = None\n",
    "subject_count = 0"
   ]
  },
  {
   "cell_type": "code",
   "execution_count": 8,
   "id": "89b68fff",
   "metadata": {},
   "outputs": [],
   "source": [
    "# Loop through files in directory\n",
    "for filename in os.listdir(data_dir):\n",
    "    if filename.startswith('data_sub-') and filename.endswith('.txt'):\n",
    "        subject_name = re.search(r'data_sub-(.*)\\.txt', filename).group(1)\n",
    "        file_path = os.path.join(data_dir, filename)\n",
    "\n",
    "        # Load FC data\n",
    "        FCData = np.loadtxt(file_path, delimiter=',', skiprows=1)\n",
    "\n",
    "        # Transform to weighted and binary adjacency matrices\n",
    "        adj_wei = FCData - np.eye(FCData.shape[0])\n",
    "        adj_bin = bct.utils.binarize(bct.utils.threshold_proportional(adj_wei, 0.2))\n",
    "        \n",
    "        # Update accumulators\n",
    "        if sum_adj_wei is None:\n",
    "             sum_adj_wei = adj_wei.copy()\n",
    "             sum_adj_bin = adj_bin.copy()\n",
    "        else:\n",
    "             sum_adj_wei += adj_wei\n",
    "             sum_adj_bin += adj_bin\n",
    "             \n",
    "        subject_count += 1\n",
    "\n",
    "        # Calculate centrality measures\n",
    "        mod_z = bct.centrality.module_degree_zscore(adj_wei, civ.network_group)\n",
    "        part_coef = bct.centrality.participation_coef(adj_wei, civ.network_group)\n",
    "        strength = bct.degree.strengths_und(adj_wei)\n",
    "\n",
    "        # Store in DataFrames with subject name as column\n",
    "        all_zscores[subject_name] = mod_z\n",
    "        all_partcoef[subject_name] = part_coef\n",
    "        all_strength[subject_name] = strength\n",
    "\n",
    "        # # Optional: Save plots per subject (can comment out if not needed)\n",
    "        # fig, ax = plt.subplots(figsize=(7, 7))\n",
    "        # ax.imshow(adj_wei, cmap='viridis')\n",
    "        # plt.title(f'Weighted adjacency matrix: {subject_name}')\n",
    "        # fig.colorbar(ax.images[0])\n",
    "        # plt.savefig(os.path.join(data_dir, f'{subject_name}_plot_wei.png'))\n",
    "        # plt.close()\n",
    "\n",
    "        # fig, ax = plt.subplots(figsize=(7, 7))\n",
    "        # ax.imshow(adj_bin, cmap='viridis')\n",
    "        # plt.title(f'Binary adjacency matrix: {subject_name}')\n",
    "        # fig.colorbar(ax.images[0])\n",
    "        # plt.savefig(os.path.join(data_dir, f'{subject_name}_plot_bin.png'))\n",
    "        # plt.close()"
   ]
  },
  {
   "cell_type": "code",
   "execution_count": 9,
   "id": "5babb9b0",
   "metadata": {},
   "outputs": [],
   "source": [
    "# Transpose to have subjects as rows\n",
    "z_df = all_zscores.T.reset_index()\n",
    "pc_df = all_partcoef.T.reset_index()\n",
    "strength_df = all_strength.T.reset_index()\n",
    "\n",
    "# Rename the index column to 'ID'\n",
    "z_df.rename(columns={'index': 'ID'}, inplace=True)\n",
    "pc_df.rename(columns={'index': 'ID'}, inplace=True)\n",
    "strength_df.rename(columns={'index': 'ID'}, inplace=True)\n",
    "\n",
    "z_df.columns = ['ID'] + [f'ROI_{i+1}' for i in range(z_df.shape[1] - 1)]\n",
    "pc_df.columns = ['ID'] + [f'ROI_{i+1}' for i in range(pc_df.shape[1] - 1)]\n",
    "strength_df.columns = ['ID'] + [f'ROI_{i+1}' for i in range(strength_df.shape[1] - 1)]\n"
   ]
  },
  {
   "cell_type": "code",
   "execution_count": 12,
   "id": "59dace25",
   "metadata": {},
   "outputs": [],
   "source": [
    "# Save all features to CSV\n",
    "z_df.to_csv(os.path.join(results_dir, 'within_module_z_all_adhd.csv'), index=False)\n",
    "pc_df.to_csv(os.path.join(results_dir, 'participation_coeff_all_adhd.csv'), index=False)\n",
    "strength_df.to_csv(os.path.join(results_dir, 'node_strength_all_adhd.csv'), index=False)\n"
   ]
  },
  {
   "cell_type": "code",
   "execution_count": 13,
   "id": "0a16f36b",
   "metadata": {},
   "outputs": [],
   "source": [
    "# Compute average matrices\n",
    "avg_adj_wei = sum_adj_wei / subject_count\n",
    "avg_adj_bin = sum_adj_bin / subject_count\n",
    "\n",
    "# Plot average weighted adjacency matrix\n",
    "fig, ax = plt.subplots(figsize=(7, 7))\n",
    "plot_wei_avg = ax.imshow(avg_adj_wei, cmap='viridis')\n",
    "plt.title('Average Weighted Adjacency Matrix')\n",
    "fig.colorbar(plot_wei_avg)\n",
    "plt.savefig(os.path.join(results_dir, 'average_weighted_adjacency_adhd.png'))\n",
    "plt.close()\n",
    "\n",
    "# Plot average binary adjacency matrix\n",
    "fig, ax = plt.subplots(figsize=(7, 7))\n",
    "plot_bin_avg = ax.imshow(avg_adj_bin, cmap='viridis')\n",
    "plt.title('Average Binary Adjacency Matrix')\n",
    "fig.colorbar(plot_bin_avg)\n",
    "plt.savefig(os.path.join(results_dir, 'average_binary_adjacency_adhd.png'))\n",
    "plt.close()"
   ]
  }
 ],
 "metadata": {
  "kernelspec": {
   "display_name": "base",
   "language": "python",
   "name": "python3"
  },
  "language_info": {
   "codemirror_mode": {
    "name": "ipython",
    "version": 3
   },
   "file_extension": ".py",
   "mimetype": "text/x-python",
   "name": "python",
   "nbconvert_exporter": "python",
   "pygments_lexer": "ipython3",
   "version": "3.12.8"
  }
 },
 "nbformat": 4,
 "nbformat_minor": 5
}
