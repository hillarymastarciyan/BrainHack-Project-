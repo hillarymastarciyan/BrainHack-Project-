{
 "cells": [
  {
   "cell_type": "code",
   "execution_count": null,
   "id": "fdb89dac",
   "metadata": {},
   "outputs": [],
   "source": [
    "### FEATURE CALCULATION\n",
    "### May 23, 2025\n",
    "### Lorena Lopez Dominguez\n",
    "### From https://brainconn.readthedocs.io/en/latest/api.html\n",
    "### kernel: base (Python 3.12.8)"
   ]
  },
  {
   "cell_type": "code",
   "execution_count": 18,
   "id": "cfcc0cc7",
   "metadata": {},
   "outputs": [],
   "source": [
    "# Load libraries\n",
    "import numpy as np\n",
    "import pandas as pd\n",
    "import matplotlib.pyplot as plt\n",
    "import os\n",
    "import re\n",
    "import bct"
   ]
  },
  {
   "cell_type": "code",
   "execution_count": 30,
   "id": "62fe08d3",
   "metadata": {},
   "outputs": [],
   "source": [
    "# Set working directory\n",
    "base_dir = '/Users/Lore/Desktop/brainhack/project/BrainHack-Project-'\n",
    "data_dir = os.path.join(base_dir, 'Data')\n",
    "os.chdir(base_dir)\n",
    "\n",
    "# Create results directory if it doesn't exist\n",
    "results_dir = os.path.join(base_dir, 'results')\n",
    "os.makedirs(results_dir, exist_ok=True)"
   ]
  },
  {
   "cell_type": "code",
   "execution_count": 31,
   "id": "b2fa7c3a",
   "metadata": {},
   "outputs": [],
   "source": [
    "# Load community index vector\n",
    "civ = pd.read_table('network_roi_7networks.txt')"
   ]
  },
  {
   "cell_type": "code",
   "execution_count": 32,
   "id": "7365074f",
   "metadata": {},
   "outputs": [],
   "source": [
    "# Load metadata\n",
    "meta = pd.read_csv(os.path.join('/Users/Lore/Desktop/brainhack/project/demographic_adhd_controls.csv'))\n",
    "meta\n",
    "\n",
    "# Create dictionary mapping subject ID to group ('case' or 'control')\n",
    "group_map = dict(zip(meta['ID'], meta['MHAM_85']))"
   ]
  },
  {
   "cell_type": "code",
   "execution_count": 33,
   "id": "1f072e2b",
   "metadata": {},
   "outputs": [],
   "source": [
    "# Initialize DataFrames to store all subjects' data\n",
    "all_zscores = pd.DataFrame()\n",
    "all_partcoef = pd.DataFrame()\n",
    "all_strength = pd.DataFrame()"
   ]
  },
  {
   "cell_type": "code",
   "execution_count": 34,
   "id": "2ee839c5",
   "metadata": {},
   "outputs": [],
   "source": [
    "# Initialize accumulators for average plots, separate for cases and controls\n",
    "sum_wei_adhd = None\n",
    "sum_bin_adhd = None\n",
    "count_adhd = 0\n",
    "\n",
    "sum_wei_ctrl = None\n",
    "sum_bin_ctrl = None\n",
    "count_ctrl = 0"
   ]
  },
  {
   "cell_type": "code",
   "execution_count": 42,
   "id": "89b68fff",
   "metadata": {},
   "outputs": [],
   "source": [
    "# Loop through files in directory\n",
    "for filename in os.listdir(data_dir):\n",
    "    if filename.startswith('data_sub-') and filename.endswith('.txt'):\n",
    "        subject_name = re.search(r'data_sub-(.*)\\.txt', filename).group(1)\n",
    "        file_path = os.path.join(data_dir, filename)\n",
    "\n",
    "        # Load FC data\n",
    "        FCData = np.loadtxt(file_path, delimiter=',', skiprows=1)\n",
    "\n",
    "        # Transform to weighted and binary adjacency matrices\n",
    "        adj_wei = FCData - np.eye(FCData.shape[0])\n",
    "        adj_bin = bct.utils.binarize(bct.utils.threshold_proportional(adj_wei, 0.2))\n",
    "        \n",
    "        # Determine group\n",
    "        group = group_map.get(subject_name)\n",
    "        \n",
    "        if group == 1:\n",
    "            if sum_wei_adhd is None:\n",
    "                sum_wei_adhd = adj_wei.copy()\n",
    "                sum_bin_adhd = adj_bin.copy()\n",
    "            else:\n",
    "                sum_wei_adhd += adj_wei\n",
    "                sum_bin_adhd += adj_bin\n",
    "            count_adhd += 1\n",
    "\n",
    "        elif group == 0:\n",
    "            if sum_wei_ctrl is None:\n",
    "                sum_wei_ctrl = adj_wei.copy()\n",
    "                sum_bin_ctrl = adj_bin.copy()\n",
    "            else:\n",
    "                sum_wei_ctrl += adj_wei\n",
    "                sum_bin_ctrl += adj_bin\n",
    "            count_ctrl += 1\n",
    "\n",
    "        # Calculate centrality measures\n",
    "        mod_z = bct.centrality.module_degree_zscore(adj_wei, civ.network_group)\n",
    "        part_coef = bct.centrality.participation_coef(adj_wei, civ.network_group)\n",
    "        strength = bct.degree.strengths_und(adj_wei)\n",
    "\n",
    "        # Store in DataFrames with subject name as column\n",
    "        all_zscores[subject_name] = mod_z\n",
    "        all_partcoef[subject_name] = part_coef\n",
    "        all_strength[subject_name] = strength\n",
    "\n",
    "        # # Optional: Save plots per subject (can comment out if not needed)\n",
    "        # fig, ax = plt.subplots(figsize=(7, 7))\n",
    "        # ax.imshow(adj_wei, cmap='viridis')\n",
    "        # plt.title(f'Weighted adjacency matrix: {subject_name}')\n",
    "        # fig.colorbar(ax.images[0])\n",
    "        # plt.savefig(os.path.join(data_dir, f'{subject_name}_plot_wei.png'))\n",
    "        # plt.close()\n",
    "\n",
    "        # fig, ax = plt.subplots(figsize=(7, 7))\n",
    "        # ax.imshow(adj_bin, cmap='viridis')\n",
    "        # plt.title(f'Binary adjacency matrix: {subject_name}')\n",
    "        # fig.colorbar(ax.images[0])\n",
    "        # plt.savefig(os.path.join(data_dir, f'{subject_name}_plot_bin.png'))\n",
    "        # plt.close()"
   ]
  },
  {
   "cell_type": "code",
   "execution_count": 43,
   "id": "5babb9b0",
   "metadata": {},
   "outputs": [],
   "source": [
    "# Transpose to have subjects as rows\n",
    "z_df = all_zscores.T.reset_index()\n",
    "pc_df = all_partcoef.T.reset_index()\n",
    "strength_df = all_strength.T.reset_index()\n",
    "\n",
    "# Rename the index column to 'ID'\n",
    "z_df.rename(columns={'index': 'ID'}, inplace=True)\n",
    "pc_df.rename(columns={'index': 'ID'}, inplace=True)\n",
    "strength_df.rename(columns={'index': 'ID'}, inplace=True)\n",
    "\n",
    "z_df.columns = ['ID'] + [f'ROI_{i+1}' for i in range(z_df.shape[1] - 1)]\n",
    "pc_df.columns = ['ID'] + [f'ROI_{i+1}' for i in range(pc_df.shape[1] - 1)]\n",
    "strength_df.columns = ['ID'] + [f'ROI_{i+1}' for i in range(strength_df.shape[1] - 1)]\n"
   ]
  },
  {
   "cell_type": "code",
   "execution_count": 27,
   "id": "59dace25",
   "metadata": {},
   "outputs": [],
   "source": [
    "# Save all features to CSV\n",
    "z_df.to_csv(os.path.join(results_dir, 'within_module_z_all.csv'), index=False)\n",
    "pc_df.to_csv(os.path.join(results_dir, 'participation_coeff_all.csv'), index=False)\n",
    "strength_df.to_csv(os.path.join(results_dir, 'node_strength_all.csv'), index=False)\n"
   ]
  },
  {
   "cell_type": "code",
   "execution_count": 44,
   "id": "c407a76e",
   "metadata": {},
   "outputs": [],
   "source": [
    "# Compute group-specific averages\n",
    "avg_wei_adhd = sum_wei_adhd / count_adhd\n",
    "avg_bin_adhd = sum_bin_adhd / count_adhd\n",
    "avg_wei_ctrl = sum_wei_ctrl / count_ctrl\n",
    "avg_bin_ctrl = sum_bin_ctrl / count_ctrl\n",
    "\n",
    "# Plot weighted and binary for cases\n",
    "fig, ax = plt.subplots(figsize=(7, 7))\n",
    "ax.imshow(avg_wei_adhd, cmap='viridis')\n",
    "plt.title('ADHD: Average Weighted Adjacency')\n",
    "fig.colorbar(ax.imshow(avg_wei_adhd, cmap='viridis'))\n",
    "plt.savefig(os.path.join(results_dir, 'adhd_avg_weighted_adjacency.png'))\n",
    "plt.close()\n",
    "\n",
    "fig, ax = plt.subplots(figsize=(7, 7))\n",
    "ax.imshow(avg_bin_adhd, cmap='viridis')\n",
    "plt.title('ADHD: Average Binary Adjacency')\n",
    "fig.colorbar(ax.imshow(avg_bin_adhd, cmap='viridis'))\n",
    "plt.savefig(os.path.join(results_dir, 'adhd_avg_binary_adjacency.png'))\n",
    "plt.close()\n",
    "\n",
    "# Plot weighted and binary for controls\n",
    "fig, ax = plt.subplots(figsize=(7, 7))\n",
    "ax.imshow(avg_wei_ctrl, cmap='viridis')\n",
    "plt.title('Control: Average Weighted Adjacency')\n",
    "fig.colorbar(ax.imshow(avg_wei_ctrl, cmap='viridis'))\n",
    "plt.savefig(os.path.join(results_dir, 'control_avg_weighted_adjacency.png'))\n",
    "plt.close()\n",
    "\n",
    "fig, ax = plt.subplots(figsize=(7, 7))\n",
    "ax.imshow(avg_bin_ctrl, cmap='viridis')\n",
    "plt.title('Control: Average Binary Adjacency')\n",
    "fig.colorbar(ax.imshow(avg_bin_ctrl, cmap='viridis'))\n",
    "plt.savefig(os.path.join(results_dir, 'control_avg_binary_adjacency.png'))\n",
    "plt.close()\n"
   ]
  }
 ],
 "metadata": {
  "kernelspec": {
   "display_name": "base",
   "language": "python",
   "name": "python3"
  },
  "language_info": {
   "codemirror_mode": {
    "name": "ipython",
    "version": 3
   },
   "file_extension": ".py",
   "mimetype": "text/x-python",
   "name": "python",
   "nbconvert_exporter": "python",
   "pygments_lexer": "ipython3",
   "version": "3.12.8"
  }
 },
 "nbformat": 4,
 "nbformat_minor": 5
}
